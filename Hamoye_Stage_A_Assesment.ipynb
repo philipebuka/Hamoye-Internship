{
  "nbformat": 4,
  "nbformat_minor": 0,
  "metadata": {
    "colab": {
      "name": "Hamoye_Stage_A_Assesment.ipynb",
      "provenance": [],
      "authorship_tag": "ABX9TyOG4o+AkmyovrRw0ncXb/4W",
      "include_colab_link": true
    },
    "kernelspec": {
      "name": "python3",
      "display_name": "Python 3"
    }
  },
  "cells": [
    {
      "cell_type": "markdown",
      "metadata": {
        "id": "view-in-github",
        "colab_type": "text"
      },
      "source": [
        "<a href=\"https://colab.research.google.com/github/philipebuka/Hamoye-Internship/blob/master/Hamoye_Stage_A_Assesment.ipynb\" target=\"_parent\"><img src=\"https://colab.research.google.com/assets/colab-badge.svg\" alt=\"Open In Colab\"/></a>"
      ]
    },
    {
      "cell_type": "code",
      "metadata": {
        "id": "5urtdGLmFyXD",
        "colab_type": "code",
        "colab": {
          "base_uri": "https://localhost:8080/",
          "height": 71
        },
        "outputId": "3455668b-40d3-4243-be50-3b0d6fa9ffec"
      },
      "source": [
        "import pandas as pd\n",
        "import numpy as np\n",
        "import matplotlib.pyplot as plt\n",
        "import seaborn as sn"
      ],
      "execution_count": 1,
      "outputs": [
        {
          "output_type": "stream",
          "text": [
            "/usr/local/lib/python3.6/dist-packages/statsmodels/tools/_testing.py:19: FutureWarning: pandas.util.testing is deprecated. Use the functions in the public API at pandas.testing instead.\n",
            "  import pandas.util.testing as tm\n"
          ],
          "name": "stderr"
        }
      ]
    },
    {
      "cell_type": "code",
      "metadata": {
        "id": "P0Gz1yU5FHuk",
        "colab_type": "code",
        "colab": {
          "base_uri": "https://localhost:8080/",
          "height": 224
        },
        "outputId": "cc1b0d4a-533b-4dcc-a919-f8e78d536200"
      },
      "source": [
        "fuel_data = pd.read_csv('https://bit.ly/HDSC-StageOneDataset')\n",
        "fuel_data.head()"
      ],
      "execution_count": 22,
      "outputs": [
        {
          "output_type": "execute_result",
          "data": {
            "text/html": [
              "<div>\n",
              "<style scoped>\n",
              "    .dataframe tbody tr th:only-of-type {\n",
              "        vertical-align: middle;\n",
              "    }\n",
              "\n",
              "    .dataframe tbody tr th {\n",
              "        vertical-align: top;\n",
              "    }\n",
              "\n",
              "    .dataframe thead th {\n",
              "        text-align: right;\n",
              "    }\n",
              "</style>\n",
              "<table border=\"1\" class=\"dataframe\">\n",
              "  <thead>\n",
              "    <tr style=\"text-align: right;\">\n",
              "      <th></th>\n",
              "      <th>record_id</th>\n",
              "      <th>utility_id_ferc1</th>\n",
              "      <th>report_year</th>\n",
              "      <th>plant_name_ferc1</th>\n",
              "      <th>fuel_type_code_pudl</th>\n",
              "      <th>fuel_unit</th>\n",
              "      <th>fuel_qty_burned</th>\n",
              "      <th>fuel_mmbtu_per_unit</th>\n",
              "      <th>fuel_cost_per_unit_burned</th>\n",
              "      <th>fuel_cost_per_unit_delivered</th>\n",
              "      <th>fuel_cost_per_mmbtu</th>\n",
              "    </tr>\n",
              "  </thead>\n",
              "  <tbody>\n",
              "    <tr>\n",
              "      <th>0</th>\n",
              "      <td>f1_fuel_1994_12_1_0_7</td>\n",
              "      <td>1</td>\n",
              "      <td>1994</td>\n",
              "      <td>rockport</td>\n",
              "      <td>coal</td>\n",
              "      <td>ton</td>\n",
              "      <td>5377489.0</td>\n",
              "      <td>16.590</td>\n",
              "      <td>18.59</td>\n",
              "      <td>18.53</td>\n",
              "      <td>1.121</td>\n",
              "    </tr>\n",
              "    <tr>\n",
              "      <th>1</th>\n",
              "      <td>f1_fuel_1994_12_1_0_10</td>\n",
              "      <td>1</td>\n",
              "      <td>1994</td>\n",
              "      <td>rockport total plant</td>\n",
              "      <td>coal</td>\n",
              "      <td>ton</td>\n",
              "      <td>10486945.0</td>\n",
              "      <td>16.592</td>\n",
              "      <td>18.58</td>\n",
              "      <td>18.53</td>\n",
              "      <td>1.120</td>\n",
              "    </tr>\n",
              "    <tr>\n",
              "      <th>2</th>\n",
              "      <td>f1_fuel_1994_12_2_0_1</td>\n",
              "      <td>2</td>\n",
              "      <td>1994</td>\n",
              "      <td>gorgas</td>\n",
              "      <td>coal</td>\n",
              "      <td>ton</td>\n",
              "      <td>2978683.0</td>\n",
              "      <td>24.130</td>\n",
              "      <td>39.72</td>\n",
              "      <td>38.12</td>\n",
              "      <td>1.650</td>\n",
              "    </tr>\n",
              "    <tr>\n",
              "      <th>3</th>\n",
              "      <td>f1_fuel_1994_12_2_0_7</td>\n",
              "      <td>2</td>\n",
              "      <td>1994</td>\n",
              "      <td>barry</td>\n",
              "      <td>coal</td>\n",
              "      <td>ton</td>\n",
              "      <td>3739484.0</td>\n",
              "      <td>23.950</td>\n",
              "      <td>47.21</td>\n",
              "      <td>45.99</td>\n",
              "      <td>1.970</td>\n",
              "    </tr>\n",
              "    <tr>\n",
              "      <th>4</th>\n",
              "      <td>f1_fuel_1994_12_2_0_10</td>\n",
              "      <td>2</td>\n",
              "      <td>1994</td>\n",
              "      <td>chickasaw</td>\n",
              "      <td>gas</td>\n",
              "      <td>mcf</td>\n",
              "      <td>40533.0</td>\n",
              "      <td>1.000</td>\n",
              "      <td>2.77</td>\n",
              "      <td>2.77</td>\n",
              "      <td>2.570</td>\n",
              "    </tr>\n",
              "  </tbody>\n",
              "</table>\n",
              "</div>"
            ],
            "text/plain": [
              "                record_id  ...  fuel_cost_per_mmbtu\n",
              "0   f1_fuel_1994_12_1_0_7  ...                1.121\n",
              "1  f1_fuel_1994_12_1_0_10  ...                1.120\n",
              "2   f1_fuel_1994_12_2_0_1  ...                1.650\n",
              "3   f1_fuel_1994_12_2_0_7  ...                1.970\n",
              "4  f1_fuel_1994_12_2_0_10  ...                2.570\n",
              "\n",
              "[5 rows x 11 columns]"
            ]
          },
          "metadata": {
            "tags": []
          },
          "execution_count": 22
        }
      ]
    },
    {
      "cell_type": "markdown",
      "metadata": {
        "id": "SdMhPPp_LhR-",
        "colab_type": "text"
      },
      "source": [
        "'Record_id' : record id\n",
        "\n",
        "'Utility_id_ferc1': Utility id assigned by the FERC\n",
        "\n",
        "'Report_year': year of report\n",
        "\n",
        "'Plant_name_ferc1': the name of the plant\n",
        "\n",
        "'Fuel_type_code_pudl': the type of fuel\n",
        "\n",
        "'Fuel_unit': the unit of fuel\n",
        "\n",
        "'Fuel_qty_burned': the quantity of fuel burned\n",
        "\n",
        "'Fuel_mmbtu_per_unit': the measure of energy per unit\n",
        "\n",
        "'fuel_cost_per_unit_burned': the fuel cost per unit burned\n",
        "\n",
        "'Fuel_cost_per_unit_delivered': the cost of fuel delivered per unit\n",
        "\n",
        "'fuel_cost_per_mmbtu': the cost of fuel per mmbtu\n",
        "\n",
        "MMBTU, or MBTU, stands for one million British Thermal Units (BTU). A BTU is a measure of the energy content in fuel, and is is used in the power, steam generation, heating and air conditioning industries. One BTU is equivalent to1.06 Joules."
      ]
    },
    {
      "cell_type": "code",
      "metadata": {
        "id": "0PUW6zK4Fu2I",
        "colab_type": "code",
        "colab": {
          "base_uri": "https://localhost:8080/",
          "height": 297
        },
        "outputId": "bd35dc6f-fd48-4f04-f88c-8ee6a552c9ba"
      },
      "source": [
        "fuel_data.describe()"
      ],
      "execution_count": 3,
      "outputs": [
        {
          "output_type": "execute_result",
          "data": {
            "text/html": [
              "<div>\n",
              "<style scoped>\n",
              "    .dataframe tbody tr th:only-of-type {\n",
              "        vertical-align: middle;\n",
              "    }\n",
              "\n",
              "    .dataframe tbody tr th {\n",
              "        vertical-align: top;\n",
              "    }\n",
              "\n",
              "    .dataframe thead th {\n",
              "        text-align: right;\n",
              "    }\n",
              "</style>\n",
              "<table border=\"1\" class=\"dataframe\">\n",
              "  <thead>\n",
              "    <tr style=\"text-align: right;\">\n",
              "      <th></th>\n",
              "      <th>utility_id_ferc1</th>\n",
              "      <th>report_year</th>\n",
              "      <th>fuel_qty_burned</th>\n",
              "      <th>fuel_mmbtu_per_unit</th>\n",
              "      <th>fuel_cost_per_unit_burned</th>\n",
              "      <th>fuel_cost_per_unit_delivered</th>\n",
              "      <th>fuel_cost_per_mmbtu</th>\n",
              "    </tr>\n",
              "  </thead>\n",
              "  <tbody>\n",
              "    <tr>\n",
              "      <th>count</th>\n",
              "      <td>29523.000000</td>\n",
              "      <td>29523.000000</td>\n",
              "      <td>2.952300e+04</td>\n",
              "      <td>29523.000000</td>\n",
              "      <td>29523.000000</td>\n",
              "      <td>2.952300e+04</td>\n",
              "      <td>29523.000000</td>\n",
              "    </tr>\n",
              "    <tr>\n",
              "      <th>mean</th>\n",
              "      <td>118.601836</td>\n",
              "      <td>2005.806050</td>\n",
              "      <td>2.622119e+06</td>\n",
              "      <td>8.492111</td>\n",
              "      <td>208.649031</td>\n",
              "      <td>9.175704e+02</td>\n",
              "      <td>19.304354</td>\n",
              "    </tr>\n",
              "    <tr>\n",
              "      <th>std</th>\n",
              "      <td>74.178353</td>\n",
              "      <td>7.025483</td>\n",
              "      <td>9.118004e+06</td>\n",
              "      <td>10.600220</td>\n",
              "      <td>2854.490090</td>\n",
              "      <td>6.877593e+04</td>\n",
              "      <td>2091.540939</td>\n",
              "    </tr>\n",
              "    <tr>\n",
              "      <th>min</th>\n",
              "      <td>1.000000</td>\n",
              "      <td>1994.000000</td>\n",
              "      <td>1.000000e+00</td>\n",
              "      <td>0.000001</td>\n",
              "      <td>-276.080000</td>\n",
              "      <td>-8.749370e+02</td>\n",
              "      <td>-41.501000</td>\n",
              "    </tr>\n",
              "    <tr>\n",
              "      <th>25%</th>\n",
              "      <td>55.000000</td>\n",
              "      <td>2000.000000</td>\n",
              "      <td>1.381700e+04</td>\n",
              "      <td>1.024000</td>\n",
              "      <td>5.207000</td>\n",
              "      <td>3.778500e+00</td>\n",
              "      <td>1.940000</td>\n",
              "    </tr>\n",
              "    <tr>\n",
              "      <th>50%</th>\n",
              "      <td>122.000000</td>\n",
              "      <td>2006.000000</td>\n",
              "      <td>2.533220e+05</td>\n",
              "      <td>5.762694</td>\n",
              "      <td>26.000000</td>\n",
              "      <td>1.737100e+01</td>\n",
              "      <td>4.127000</td>\n",
              "    </tr>\n",
              "    <tr>\n",
              "      <th>75%</th>\n",
              "      <td>176.000000</td>\n",
              "      <td>2012.000000</td>\n",
              "      <td>1.424034e+06</td>\n",
              "      <td>17.006000</td>\n",
              "      <td>47.113000</td>\n",
              "      <td>4.213700e+01</td>\n",
              "      <td>7.745000</td>\n",
              "    </tr>\n",
              "    <tr>\n",
              "      <th>max</th>\n",
              "      <td>514.000000</td>\n",
              "      <td>2018.000000</td>\n",
              "      <td>5.558942e+08</td>\n",
              "      <td>341.260000</td>\n",
              "      <td>139358.000000</td>\n",
              "      <td>7.964521e+06</td>\n",
              "      <td>359278.000000</td>\n",
              "    </tr>\n",
              "  </tbody>\n",
              "</table>\n",
              "</div>"
            ],
            "text/plain": [
              "       utility_id_ferc1  ...  fuel_cost_per_mmbtu\n",
              "count      29523.000000  ...         29523.000000\n",
              "mean         118.601836  ...            19.304354\n",
              "std           74.178353  ...          2091.540939\n",
              "min            1.000000  ...           -41.501000\n",
              "25%           55.000000  ...             1.940000\n",
              "50%          122.000000  ...             4.127000\n",
              "75%          176.000000  ...             7.745000\n",
              "max          514.000000  ...        359278.000000\n",
              "\n",
              "[8 rows x 7 columns]"
            ]
          },
          "metadata": {
            "tags": []
          },
          "execution_count": 3
        }
      ]
    },
    {
      "cell_type": "code",
      "metadata": {
        "id": "osuSf3wsGGYK",
        "colab_type": "code",
        "colab": {
          "base_uri": "https://localhost:8080/",
          "height": 323
        },
        "outputId": "2212c098-319d-4114-8b18-645bb0867802"
      },
      "source": [
        "fuel_data.info()"
      ],
      "execution_count": null,
      "outputs": [
        {
          "output_type": "stream",
          "text": [
            "<class 'pandas.core.frame.DataFrame'>\n",
            "RangeIndex: 29523 entries, 0 to 29522\n",
            "Data columns (total 11 columns):\n",
            " #   Column                        Non-Null Count  Dtype  \n",
            "---  ------                        --------------  -----  \n",
            " 0   record_id                     29523 non-null  object \n",
            " 1   utility_id_ferc1              29523 non-null  int64  \n",
            " 2   report_year                   29523 non-null  int64  \n",
            " 3   plant_name_ferc1              29523 non-null  object \n",
            " 4   fuel_type_code_pudl           29523 non-null  object \n",
            " 5   fuel_unit                     29343 non-null  object \n",
            " 6   fuel_qty_burned               29523 non-null  float64\n",
            " 7   fuel_mmbtu_per_unit           29523 non-null  float64\n",
            " 8   fuel_cost_per_unit_burned     29523 non-null  float64\n",
            " 9   fuel_cost_per_unit_delivered  29523 non-null  float64\n",
            " 10  fuel_cost_per_mmbtu           29523 non-null  float64\n",
            "dtypes: float64(5), int64(2), object(4)\n",
            "memory usage: 2.5+ MB\n"
          ],
          "name": "stdout"
        }
      ]
    },
    {
      "cell_type": "code",
      "metadata": {
        "id": "U1LBnSr1GJBJ",
        "colab_type": "code",
        "colab": {}
      },
      "source": [
        "cost_per_unit = fuel_data[['fuel_type_code_pudl','fuel_cost_per_unit_burned']].groupby('fuel_type_code_pudl').sum()"
      ],
      "execution_count": 7,
      "outputs": []
    },
    {
      "cell_type": "code",
      "metadata": {
        "id": "erd3pHfHYKoZ",
        "colab_type": "code",
        "colab": {
          "base_uri": "https://localhost:8080/",
          "height": 266
        },
        "outputId": "22249620-3f93-416d-9f59-d859f92b110e"
      },
      "source": [
        "cost_per_unit"
      ],
      "execution_count": 9,
      "outputs": [
        {
          "output_type": "execute_result",
          "data": {
            "text/html": [
              "<div>\n",
              "<style scoped>\n",
              "    .dataframe tbody tr th:only-of-type {\n",
              "        vertical-align: middle;\n",
              "    }\n",
              "\n",
              "    .dataframe tbody tr th {\n",
              "        vertical-align: top;\n",
              "    }\n",
              "\n",
              "    .dataframe thead th {\n",
              "        text-align: right;\n",
              "    }\n",
              "</style>\n",
              "<table border=\"1\" class=\"dataframe\">\n",
              "  <thead>\n",
              "    <tr style=\"text-align: right;\">\n",
              "      <th></th>\n",
              "      <th>fuel_cost_per_unit_burned</th>\n",
              "    </tr>\n",
              "    <tr>\n",
              "      <th>fuel_type_code_pudl</th>\n",
              "      <th></th>\n",
              "    </tr>\n",
              "  </thead>\n",
              "  <tbody>\n",
              "    <tr>\n",
              "      <th>coal</th>\n",
              "      <td>576254.381</td>\n",
              "    </tr>\n",
              "    <tr>\n",
              "      <th>gas</th>\n",
              "      <td>156891.829</td>\n",
              "    </tr>\n",
              "    <tr>\n",
              "      <th>nuclear</th>\n",
              "      <td>4053318.428</td>\n",
              "    </tr>\n",
              "    <tr>\n",
              "      <th>oil</th>\n",
              "      <td>1361824.819</td>\n",
              "    </tr>\n",
              "    <tr>\n",
              "      <th>other</th>\n",
              "      <td>3048.394</td>\n",
              "    </tr>\n",
              "    <tr>\n",
              "      <th>waste</th>\n",
              "      <td>8607.492</td>\n",
              "    </tr>\n",
              "  </tbody>\n",
              "</table>\n",
              "</div>"
            ],
            "text/plain": [
              "                     fuel_cost_per_unit_burned\n",
              "fuel_type_code_pudl                           \n",
              "coal                                576254.381\n",
              "gas                                 156891.829\n",
              "nuclear                            4053318.428\n",
              "oil                                1361824.819\n",
              "other                                 3048.394\n",
              "waste                                 8607.492"
            ]
          },
          "metadata": {
            "tags": []
          },
          "execution_count": 9
        }
      ]
    },
    {
      "cell_type": "code",
      "metadata": {
        "id": "kgg8HmQkbF7p",
        "colab_type": "code",
        "colab": {
          "base_uri": "https://localhost:8080/",
          "height": 221
        },
        "outputId": "ff29718e-831c-477c-e12a-acc8a4921939"
      },
      "source": [
        "fuel_data.isnull().sum()"
      ],
      "execution_count": 14,
      "outputs": [
        {
          "output_type": "execute_result",
          "data": {
            "text/plain": [
              "record_id                         0\n",
              "utility_id_ferc1                  0\n",
              "report_year                       0\n",
              "plant_name_ferc1                  0\n",
              "fuel_type_code_pudl               0\n",
              "fuel_unit                       180\n",
              "fuel_qty_burned                   0\n",
              "fuel_mmbtu_per_unit               0\n",
              "fuel_cost_per_unit_burned         0\n",
              "fuel_cost_per_unit_delivered      0\n",
              "fuel_cost_per_mmbtu               0\n",
              "dtype: int64"
            ]
          },
          "metadata": {
            "tags": []
          },
          "execution_count": 14
        }
      ]
    },
    {
      "cell_type": "code",
      "metadata": {
        "id": "S6L6A8hpaoFk",
        "colab_type": "code",
        "colab": {
          "base_uri": "https://localhost:8080/",
          "height": 221
        },
        "outputId": "3524528c-c24c-4ced-e333-9f17a8690c7f"
      },
      "source": [
        "len(fuel_data) - fuel_data.isnull().sum()"
      ],
      "execution_count": 13,
      "outputs": [
        {
          "output_type": "execute_result",
          "data": {
            "text/plain": [
              "record_id                       29523\n",
              "utility_id_ferc1                29523\n",
              "report_year                     29523\n",
              "plant_name_ferc1                29523\n",
              "fuel_type_code_pudl             29523\n",
              "fuel_unit                       29343\n",
              "fuel_qty_burned                 29523\n",
              "fuel_mmbtu_per_unit             29523\n",
              "fuel_cost_per_unit_burned       29523\n",
              "fuel_cost_per_unit_delivered    29523\n",
              "fuel_cost_per_mmbtu             29523\n",
              "dtype: int64"
            ]
          },
          "metadata": {
            "tags": []
          },
          "execution_count": 13
        }
      ]
    },
    {
      "cell_type": "code",
      "metadata": {
        "id": "X2FcFyyyaMzH",
        "colab_type": "code",
        "colab": {
          "base_uri": "https://localhost:8080/",
          "height": 221
        },
        "outputId": "991d3ab5-9560-4c9c-9ffb-42fb909d3687"
      },
      "source": [
        "#to get the percentage of missing data in each column\n",
        "(fuel_data.isnull().sum()/len(fuel_data))*100"
      ],
      "execution_count": 11,
      "outputs": [
        {
          "output_type": "execute_result",
          "data": {
            "text/plain": [
              "record_id                       0.000000\n",
              "utility_id_ferc1                0.000000\n",
              "report_year                     0.000000\n",
              "plant_name_ferc1                0.000000\n",
              "fuel_type_code_pudl             0.000000\n",
              "fuel_unit                       0.609694\n",
              "fuel_qty_burned                 0.000000\n",
              "fuel_mmbtu_per_unit             0.000000\n",
              "fuel_cost_per_unit_burned       0.000000\n",
              "fuel_cost_per_unit_delivered    0.000000\n",
              "fuel_cost_per_mmbtu             0.000000\n",
              "dtype: float64"
            ]
          },
          "metadata": {
            "tags": []
          },
          "execution_count": 11
        }
      ]
    },
    {
      "cell_type": "code",
      "metadata": {
        "id": "ewerZE9AaQrk",
        "colab_type": "code",
        "colab": {
          "base_uri": "https://localhost:8080/",
          "height": 855
        },
        "outputId": "ffd52192-d518-40ba-c1c1-e412e8b507bd"
      },
      "source": [
        "usage_cost_year = fuel_data[['report_year','fuel_cost_per_unit_delivered']].groupby('report_year').sum()\n",
        "usage_cost_year"
      ],
      "execution_count": 15,
      "outputs": [
        {
          "output_type": "execute_result",
          "data": {
            "text/html": [
              "<div>\n",
              "<style scoped>\n",
              "    .dataframe tbody tr th:only-of-type {\n",
              "        vertical-align: middle;\n",
              "    }\n",
              "\n",
              "    .dataframe tbody tr th {\n",
              "        vertical-align: top;\n",
              "    }\n",
              "\n",
              "    .dataframe thead th {\n",
              "        text-align: right;\n",
              "    }\n",
              "</style>\n",
              "<table border=\"1\" class=\"dataframe\">\n",
              "  <thead>\n",
              "    <tr style=\"text-align: right;\">\n",
              "      <th></th>\n",
              "      <th>fuel_cost_per_unit_delivered</th>\n",
              "    </tr>\n",
              "    <tr>\n",
              "      <th>report_year</th>\n",
              "      <th></th>\n",
              "    </tr>\n",
              "  </thead>\n",
              "  <tbody>\n",
              "    <tr>\n",
              "      <th>1994</th>\n",
              "      <td>7.859053e+04</td>\n",
              "    </tr>\n",
              "    <tr>\n",
              "      <th>1995</th>\n",
              "      <td>3.931506e+04</td>\n",
              "    </tr>\n",
              "    <tr>\n",
              "      <th>1996</th>\n",
              "      <td>1.000602e+07</td>\n",
              "    </tr>\n",
              "    <tr>\n",
              "      <th>1997</th>\n",
              "      <td>1.218738e+07</td>\n",
              "    </tr>\n",
              "    <tr>\n",
              "      <th>1998</th>\n",
              "      <td>3.178799e+05</td>\n",
              "    </tr>\n",
              "    <tr>\n",
              "      <th>1999</th>\n",
              "      <td>2.682921e+04</td>\n",
              "    </tr>\n",
              "    <tr>\n",
              "      <th>2000</th>\n",
              "      <td>1.352903e+06</td>\n",
              "    </tr>\n",
              "    <tr>\n",
              "      <th>2001</th>\n",
              "      <td>8.142834e+04</td>\n",
              "    </tr>\n",
              "    <tr>\n",
              "      <th>2002</th>\n",
              "      <td>5.735121e+04</td>\n",
              "    </tr>\n",
              "    <tr>\n",
              "      <th>2003</th>\n",
              "      <td>6.740849e+04</td>\n",
              "    </tr>\n",
              "    <tr>\n",
              "      <th>2004</th>\n",
              "      <td>1.663129e+05</td>\n",
              "    </tr>\n",
              "    <tr>\n",
              "      <th>2005</th>\n",
              "      <td>5.258506e+04</td>\n",
              "    </tr>\n",
              "    <tr>\n",
              "      <th>2006</th>\n",
              "      <td>4.805125e+04</td>\n",
              "    </tr>\n",
              "    <tr>\n",
              "      <th>2007</th>\n",
              "      <td>5.476283e+04</td>\n",
              "    </tr>\n",
              "    <tr>\n",
              "      <th>2008</th>\n",
              "      <td>7.194631e+04</td>\n",
              "    </tr>\n",
              "    <tr>\n",
              "      <th>2009</th>\n",
              "      <td>7.975923e+05</td>\n",
              "    </tr>\n",
              "    <tr>\n",
              "      <th>2010</th>\n",
              "      <td>1.158381e+05</td>\n",
              "    </tr>\n",
              "    <tr>\n",
              "      <th>2011</th>\n",
              "      <td>7.412059e+04</td>\n",
              "    </tr>\n",
              "    <tr>\n",
              "      <th>2012</th>\n",
              "      <td>7.581617e+04</td>\n",
              "    </tr>\n",
              "    <tr>\n",
              "      <th>2013</th>\n",
              "      <td>2.065968e+05</td>\n",
              "    </tr>\n",
              "    <tr>\n",
              "      <th>2014</th>\n",
              "      <td>2.256952e+05</td>\n",
              "    </tr>\n",
              "    <tr>\n",
              "      <th>2015</th>\n",
              "      <td>3.569033e+05</td>\n",
              "    </tr>\n",
              "    <tr>\n",
              "      <th>2016</th>\n",
              "      <td>1.074344e+05</td>\n",
              "    </tr>\n",
              "    <tr>\n",
              "      <th>2017</th>\n",
              "      <td>4.587348e+04</td>\n",
              "    </tr>\n",
              "    <tr>\n",
              "      <th>2018</th>\n",
              "      <td>4.748057e+05</td>\n",
              "    </tr>\n",
              "  </tbody>\n",
              "</table>\n",
              "</div>"
            ],
            "text/plain": [
              "             fuel_cost_per_unit_delivered\n",
              "report_year                              \n",
              "1994                         7.859053e+04\n",
              "1995                         3.931506e+04\n",
              "1996                         1.000602e+07\n",
              "1997                         1.218738e+07\n",
              "1998                         3.178799e+05\n",
              "1999                         2.682921e+04\n",
              "2000                         1.352903e+06\n",
              "2001                         8.142834e+04\n",
              "2002                         5.735121e+04\n",
              "2003                         6.740849e+04\n",
              "2004                         1.663129e+05\n",
              "2005                         5.258506e+04\n",
              "2006                         4.805125e+04\n",
              "2007                         5.476283e+04\n",
              "2008                         7.194631e+04\n",
              "2009                         7.975923e+05\n",
              "2010                         1.158381e+05\n",
              "2011                         7.412059e+04\n",
              "2012                         7.581617e+04\n",
              "2013                         2.065968e+05\n",
              "2014                         2.256952e+05\n",
              "2015                         3.569033e+05\n",
              "2016                         1.074344e+05\n",
              "2017                         4.587348e+04\n",
              "2018                         4.748057e+05"
            ]
          },
          "metadata": {
            "tags": []
          },
          "execution_count": 15
        }
      ]
    },
    {
      "cell_type": "code",
      "metadata": {
        "id": "RLSo4bdidIF6",
        "colab_type": "code",
        "colab": {}
      },
      "source": [
        "skewValue = fuel_data.skew(axis=0)"
      ],
      "execution_count": 18,
      "outputs": []
    },
    {
      "cell_type": "code",
      "metadata": {
        "id": "CINTzm1GdUGn",
        "colab_type": "code",
        "colab": {
          "base_uri": "https://localhost:8080/",
          "height": 153
        },
        "outputId": "9b6121e0-fa00-4c43-cfb2-43c7dd197caf"
      },
      "source": [
        "skewValue"
      ],
      "execution_count": 19,
      "outputs": [
        {
          "output_type": "execute_result",
          "data": {
            "text/plain": [
              "utility_id_ferc1                  0.605070\n",
              "report_year                       0.006953\n",
              "fuel_qty_burned                  15.851495\n",
              "fuel_mmbtu_per_unit               4.135217\n",
              "fuel_cost_per_unit_burned        19.787440\n",
              "fuel_cost_per_unit_delivered    105.014227\n",
              "fuel_cost_per_mmbtu             171.675535\n",
              "dtype: float64"
            ]
          },
          "metadata": {
            "tags": []
          },
          "execution_count": 19
        }
      ]
    },
    {
      "cell_type": "code",
      "metadata": {
        "id": "shtKzxO-d9eb",
        "colab_type": "code",
        "colab": {}
      },
      "source": [
        "new_data = fuel_data[['report_year','fuel_qty_burned','fuel_mmbtu_per_unit','fuel_cost_per_unit_burned','fuel_cost_per_unit_delivered','fuel_cost_per_mmbtu']]"
      ],
      "execution_count": 30,
      "outputs": []
    },
    {
      "cell_type": "code",
      "metadata": {
        "id": "9WlSQju_eoEr",
        "colab_type": "code",
        "colab": {
          "base_uri": "https://localhost:8080/",
          "height": 419
        },
        "outputId": "b91bc3db-ab24-4245-eb85-9f0b975665b1"
      },
      "source": [
        "new_data"
      ],
      "execution_count": 31,
      "outputs": [
        {
          "output_type": "execute_result",
          "data": {
            "text/html": [
              "<div>\n",
              "<style scoped>\n",
              "    .dataframe tbody tr th:only-of-type {\n",
              "        vertical-align: middle;\n",
              "    }\n",
              "\n",
              "    .dataframe tbody tr th {\n",
              "        vertical-align: top;\n",
              "    }\n",
              "\n",
              "    .dataframe thead th {\n",
              "        text-align: right;\n",
              "    }\n",
              "</style>\n",
              "<table border=\"1\" class=\"dataframe\">\n",
              "  <thead>\n",
              "    <tr style=\"text-align: right;\">\n",
              "      <th></th>\n",
              "      <th>report_year</th>\n",
              "      <th>fuel_qty_burned</th>\n",
              "      <th>fuel_mmbtu_per_unit</th>\n",
              "      <th>fuel_cost_per_unit_burned</th>\n",
              "      <th>fuel_cost_per_unit_delivered</th>\n",
              "      <th>fuel_cost_per_mmbtu</th>\n",
              "    </tr>\n",
              "  </thead>\n",
              "  <tbody>\n",
              "    <tr>\n",
              "      <th>0</th>\n",
              "      <td>1994</td>\n",
              "      <td>5377489.0</td>\n",
              "      <td>16.590</td>\n",
              "      <td>18.59</td>\n",
              "      <td>18.53</td>\n",
              "      <td>1.121</td>\n",
              "    </tr>\n",
              "    <tr>\n",
              "      <th>1</th>\n",
              "      <td>1994</td>\n",
              "      <td>10486945.0</td>\n",
              "      <td>16.592</td>\n",
              "      <td>18.58</td>\n",
              "      <td>18.53</td>\n",
              "      <td>1.120</td>\n",
              "    </tr>\n",
              "    <tr>\n",
              "      <th>2</th>\n",
              "      <td>1994</td>\n",
              "      <td>2978683.0</td>\n",
              "      <td>24.130</td>\n",
              "      <td>39.72</td>\n",
              "      <td>38.12</td>\n",
              "      <td>1.650</td>\n",
              "    </tr>\n",
              "    <tr>\n",
              "      <th>3</th>\n",
              "      <td>1994</td>\n",
              "      <td>3739484.0</td>\n",
              "      <td>23.950</td>\n",
              "      <td>47.21</td>\n",
              "      <td>45.99</td>\n",
              "      <td>1.970</td>\n",
              "    </tr>\n",
              "    <tr>\n",
              "      <th>4</th>\n",
              "      <td>1994</td>\n",
              "      <td>40533.0</td>\n",
              "      <td>1.000</td>\n",
              "      <td>2.77</td>\n",
              "      <td>2.77</td>\n",
              "      <td>2.570</td>\n",
              "    </tr>\n",
              "    <tr>\n",
              "      <th>...</th>\n",
              "      <td>...</td>\n",
              "      <td>...</td>\n",
              "      <td>...</td>\n",
              "      <td>...</td>\n",
              "      <td>...</td>\n",
              "      <td>...</td>\n",
              "    </tr>\n",
              "    <tr>\n",
              "      <th>29518</th>\n",
              "      <td>2018</td>\n",
              "      <td>18799.0</td>\n",
              "      <td>1.059</td>\n",
              "      <td>4.78</td>\n",
              "      <td>4.78</td>\n",
              "      <td>9.030</td>\n",
              "    </tr>\n",
              "    <tr>\n",
              "      <th>29519</th>\n",
              "      <td>2018</td>\n",
              "      <td>806730.0</td>\n",
              "      <td>1.050</td>\n",
              "      <td>3.65</td>\n",
              "      <td>3.65</td>\n",
              "      <td>6.950</td>\n",
              "    </tr>\n",
              "    <tr>\n",
              "      <th>29520</th>\n",
              "      <td>2018</td>\n",
              "      <td>104554.0</td>\n",
              "      <td>1.060</td>\n",
              "      <td>4.77</td>\n",
              "      <td>4.77</td>\n",
              "      <td>8.990</td>\n",
              "    </tr>\n",
              "    <tr>\n",
              "      <th>29521</th>\n",
              "      <td>2018</td>\n",
              "      <td>315945.0</td>\n",
              "      <td>16.108</td>\n",
              "      <td>3.06</td>\n",
              "      <td>14.76</td>\n",
              "      <td>1.110</td>\n",
              "    </tr>\n",
              "    <tr>\n",
              "      <th>29522</th>\n",
              "      <td>2018</td>\n",
              "      <td>17853.0</td>\n",
              "      <td>1.059</td>\n",
              "      <td>0.00</td>\n",
              "      <td>0.00</td>\n",
              "      <td>11.680</td>\n",
              "    </tr>\n",
              "  </tbody>\n",
              "</table>\n",
              "<p>29523 rows × 6 columns</p>\n",
              "</div>"
            ],
            "text/plain": [
              "       report_year  ...  fuel_cost_per_mmbtu\n",
              "0             1994  ...                1.121\n",
              "1             1994  ...                1.120\n",
              "2             1994  ...                1.650\n",
              "3             1994  ...                1.970\n",
              "4             1994  ...                2.570\n",
              "...            ...  ...                  ...\n",
              "29518         2018  ...                9.030\n",
              "29519         2018  ...                6.950\n",
              "29520         2018  ...                8.990\n",
              "29521         2018  ...                1.110\n",
              "29522         2018  ...               11.680\n",
              "\n",
              "[29523 rows x 6 columns]"
            ]
          },
          "metadata": {
            "tags": []
          },
          "execution_count": 31
        }
      ]
    },
    {
      "cell_type": "code",
      "metadata": {
        "id": "BcjKRJLMggrU",
        "colab_type": "code",
        "colab": {
          "base_uri": "https://localhost:8080/",
          "height": 235
        },
        "outputId": "0f41e542-0840-48ee-f6dc-aa4371711e2b"
      },
      "source": [
        "correl = new_data.corr()\n",
        "correl"
      ],
      "execution_count": 35,
      "outputs": [
        {
          "output_type": "execute_result",
          "data": {
            "text/html": [
              "<div>\n",
              "<style scoped>\n",
              "    .dataframe tbody tr th:only-of-type {\n",
              "        vertical-align: middle;\n",
              "    }\n",
              "\n",
              "    .dataframe tbody tr th {\n",
              "        vertical-align: top;\n",
              "    }\n",
              "\n",
              "    .dataframe thead th {\n",
              "        text-align: right;\n",
              "    }\n",
              "</style>\n",
              "<table border=\"1\" class=\"dataframe\">\n",
              "  <thead>\n",
              "    <tr style=\"text-align: right;\">\n",
              "      <th></th>\n",
              "      <th>report_year</th>\n",
              "      <th>fuel_qty_burned</th>\n",
              "      <th>fuel_mmbtu_per_unit</th>\n",
              "      <th>fuel_cost_per_unit_burned</th>\n",
              "      <th>fuel_cost_per_unit_delivered</th>\n",
              "      <th>fuel_cost_per_mmbtu</th>\n",
              "    </tr>\n",
              "  </thead>\n",
              "  <tbody>\n",
              "    <tr>\n",
              "      <th>report_year</th>\n",
              "      <td>1.000000</td>\n",
              "      <td>0.012952</td>\n",
              "      <td>-0.110853</td>\n",
              "      <td>0.013599</td>\n",
              "      <td>-0.014043</td>\n",
              "      <td>0.010261</td>\n",
              "    </tr>\n",
              "    <tr>\n",
              "      <th>fuel_qty_burned</th>\n",
              "      <td>0.012952</td>\n",
              "      <td>1.000000</td>\n",
              "      <td>-0.080946</td>\n",
              "      <td>-0.018535</td>\n",
              "      <td>-0.003551</td>\n",
              "      <td>-0.001896</td>\n",
              "    </tr>\n",
              "    <tr>\n",
              "      <th>fuel_mmbtu_per_unit</th>\n",
              "      <td>-0.110853</td>\n",
              "      <td>-0.080946</td>\n",
              "      <td>1.000000</td>\n",
              "      <td>-0.010034</td>\n",
              "      <td>-0.009039</td>\n",
              "      <td>-0.005884</td>\n",
              "    </tr>\n",
              "    <tr>\n",
              "      <th>fuel_cost_per_unit_burned</th>\n",
              "      <td>0.013599</td>\n",
              "      <td>-0.018535</td>\n",
              "      <td>-0.010034</td>\n",
              "      <td>1.000000</td>\n",
              "      <td>0.011007</td>\n",
              "      <td>-0.000437</td>\n",
              "    </tr>\n",
              "    <tr>\n",
              "      <th>fuel_cost_per_unit_delivered</th>\n",
              "      <td>-0.014043</td>\n",
              "      <td>-0.003551</td>\n",
              "      <td>-0.009039</td>\n",
              "      <td>0.011007</td>\n",
              "      <td>1.000000</td>\n",
              "      <td>-0.000109</td>\n",
              "    </tr>\n",
              "    <tr>\n",
              "      <th>fuel_cost_per_mmbtu</th>\n",
              "      <td>0.010261</td>\n",
              "      <td>-0.001896</td>\n",
              "      <td>-0.005884</td>\n",
              "      <td>-0.000437</td>\n",
              "      <td>-0.000109</td>\n",
              "      <td>1.000000</td>\n",
              "    </tr>\n",
              "  </tbody>\n",
              "</table>\n",
              "</div>"
            ],
            "text/plain": [
              "                              report_year  ...  fuel_cost_per_mmbtu\n",
              "report_year                      1.000000  ...             0.010261\n",
              "fuel_qty_burned                  0.012952  ...            -0.001896\n",
              "fuel_mmbtu_per_unit             -0.110853  ...            -0.005884\n",
              "fuel_cost_per_unit_burned        0.013599  ...            -0.000437\n",
              "fuel_cost_per_unit_delivered    -0.014043  ...            -0.000109\n",
              "fuel_cost_per_mmbtu              0.010261  ...             1.000000\n",
              "\n",
              "[6 rows x 6 columns]"
            ]
          },
          "metadata": {
            "tags": []
          },
          "execution_count": 35
        }
      ]
    },
    {
      "cell_type": "code",
      "metadata": {
        "id": "0u0WnA2lhyjC",
        "colab_type": "code",
        "colab": {}
      },
      "source": [
        "diff = fuel_data['fuel_cost_per_unit_burned'].iloc[1998].sum() - fuel_data['fuel_cost_per_unit_burned'].iloc[1994].sum()"
      ],
      "execution_count": 48,
      "outputs": []
    },
    {
      "cell_type": "code",
      "metadata": {
        "id": "clct-RRdinFN",
        "colab_type": "code",
        "colab": {
          "base_uri": "https://localhost:8080/",
          "height": 34
        },
        "outputId": "c70c6706-a6a4-43a0-d93c-71e184d7daec"
      },
      "source": [
        "(diff/fuel_data['fuel_cost_per_unit_burned'].iloc[1998] + fuel_data['fuel_cost_per_unit_burned'].iloc[1994])*100"
      ],
      "execution_count": 49,
      "outputs": [
        {
          "output_type": "execute_result",
          "data": {
            "text/plain": [
              "273.35153410783437"
            ]
          },
          "metadata": {
            "tags": []
          },
          "execution_count": 49
        }
      ]
    }
  ]
}